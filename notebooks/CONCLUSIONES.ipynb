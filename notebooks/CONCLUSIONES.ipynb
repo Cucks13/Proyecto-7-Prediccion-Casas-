{
 "cells": [
  {
   "cell_type": "markdown",
   "metadata": {},
   "source": [
    "# 📊 Conclusiones del Proyecto\n",
    "\n",
    "### 🔍 **1. Resultados del Análisis Exploratorio**\n",
    "El análisis exploratorio realizado en los datos de Madrid y Toledo permitió identificar las principales variables que afectan los precios de las propiedades, como la ubicación, el tipo de vivienda, la presencia de ascensor y el número de habitaciones. Estas variables demostraron correlaciones significativas con la variable objetivo (`price`).\n",
    "\n",
    "---\n",
    "\n",
    "### 🤖 **2. Rendimiento de los Modelos**\n",
    "- **Madrid**:\n",
    "  - El mejor modelo obtuvo un **RMSE** de **5.24** y un **R²** de **0.99**, indicando un rendimiento sólido y una capacidad explicativa alta.\n",
    "- **Toledo**:\n",
    "  - El modelo alcanzó un **RMSE** de **30.30** y un **R²** de **0.91**, mostrando un desempeño ligeramente inferior al de Madrid, probablemente debido a la menor cantidad de datos disponibles.\n",
    "\n",
    "---\n",
    "\n",
    "### 🚀 **3. Principales Logros**\n",
    "- Implementación de un pipeline eficiente para preprocesamiento y análisis de datos.\n",
    "- Desarrollo de modelos predictivos adaptados a las características específicas de cada ciudad.\n",
    "- Identificación de variables clave que influyen significativamente en los precios inmobiliarios.\n",
    "\n",
    "---\n",
    "\n",
    "### 📌 **4. Limitaciones y Futuras Mejoras**\n",
    "- **Limitaciones**:\n",
    "  - La disponibilidad de datos fue desigual entre las ciudades, lo que pudo afectar el rendimiento en Toledo.\n",
    "  - Algunas variables importantes, como datos económicos o históricos, no se incluyeron.\n",
    "- **Mejoras**:\n",
    "  - Añadir datos de más ciudades para mejorar la robustez del modelo.\n",
    "  - Explorar técnicas avanzadas, como Deep Learning, para mejorar la precisión en datasets más grandes.\n",
    "\n",
    "---\n",
    "\n",
    "### ✅ **Conclusión Final**\n",
    "Este proyecto proporciona una base sólida para predecir precios inmobiliarios utilizando machine learning. Aunque los modelos actuales ofrecen un buen rendimiento, hay margen para mejorar mediante la incorporación de más datos y técnicas avanzadas.\n"
   ]
  }
 ],
 "metadata": {
  "language_info": {
   "name": "python"
  }
 },
 "nbformat": 4,
 "nbformat_minor": 2
}
